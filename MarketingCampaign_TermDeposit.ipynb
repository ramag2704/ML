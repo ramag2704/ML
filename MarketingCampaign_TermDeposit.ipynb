{
 "cells": [
  {
   "cell_type": "markdown",
   "metadata": {},
   "source": [
    "<b>Predictive Analysis on Bank Marketing Dataset :</b>"
   ]
  },
  {
   "cell_type": "markdown",
   "metadata": {},
   "source": [
    "Bank Marketing Dataset contains both type variables 'Categorical' and 'Numerical'."
   ]
  },
  {
   "cell_type": "markdown",
   "metadata": {},
   "source": [
    "* Marital - (Married , Single , Divorced)\",\n",
    "* Job - (Management,BlueCollar,Technician,entrepreneur,retired,admin.,services,selfemployed,housemaid,student,unemployed,unknown)\n",
    "* Contact - (Telephone,Cellular,Unknown)\n",
    "* Education - (Primary,Secondary,Tertiary,Unknown)\n",
    "* Month - (Jan,Feb,Mar,Apr,May,Jun,Jul,Aug,Sep,Oct,Nov,Dec)\n",
    "* Poutcome - (Success,Failure,Other,Unknown)\n",
    "* Housing - (Yes/No)\n",
    "* Loan - (Yes/No)\n",
    "* Target - (Yes/No)\n",
    "* Default - (Yes/No)\n"
   ]
  },
  {
   "cell_type": "markdown",
   "metadata": {},
   "source": [
    "<b>Numerical Variable:</b>\n"
   ]
  },
  {
   "cell_type": "markdown",
   "metadata": {},
   "source": [
    "*  Age\n",
    "* Balance\n",
    "* Day\n",
    "* Duration\n",
    "* Campaign\n",
    "* Pdays\n",
    "* Previous"
   ]
  },
  {
   "cell_type": "code",
   "execution_count": 1,
   "metadata": {},
   "outputs": [
    {
     "data": {
      "text/html": [
       "<div>\n",
       "<style scoped>\n",
       "    .dataframe tbody tr th:only-of-type {\n",
       "        vertical-align: middle;\n",
       "    }\n",
       "\n",
       "    .dataframe tbody tr th {\n",
       "        vertical-align: top;\n",
       "    }\n",
       "\n",
       "    .dataframe thead th {\n",
       "        text-align: right;\n",
       "    }\n",
       "</style>\n",
       "<table border=\"1\" class=\"dataframe\">\n",
       "  <thead>\n",
       "    <tr style=\"text-align: right;\">\n",
       "      <th></th>\n",
       "      <th>age</th>\n",
       "      <th>job</th>\n",
       "      <th>marital</th>\n",
       "      <th>education</th>\n",
       "      <th>default</th>\n",
       "      <th>balance</th>\n",
       "      <th>housing</th>\n",
       "      <th>loan</th>\n",
       "      <th>contact</th>\n",
       "      <th>month</th>\n",
       "      <th>duration</th>\n",
       "      <th>campaign</th>\n",
       "      <th>pdays</th>\n",
       "      <th>previous</th>\n",
       "      <th>Target</th>\n",
       "    </tr>\n",
       "  </thead>\n",
       "  <tbody>\n",
       "    <tr>\n",
       "      <th>0</th>\n",
       "      <td>58</td>\n",
       "      <td>management</td>\n",
       "      <td>married</td>\n",
       "      <td>tertiary</td>\n",
       "      <td>0</td>\n",
       "      <td>2143</td>\n",
       "      <td>1</td>\n",
       "      <td>0</td>\n",
       "      <td>3</td>\n",
       "      <td>5</td>\n",
       "      <td>261</td>\n",
       "      <td>1</td>\n",
       "      <td>-1</td>\n",
       "      <td>0</td>\n",
       "      <td>0</td>\n",
       "    </tr>\n",
       "    <tr>\n",
       "      <th>1</th>\n",
       "      <td>44</td>\n",
       "      <td>technician</td>\n",
       "      <td>single</td>\n",
       "      <td>secondary</td>\n",
       "      <td>0</td>\n",
       "      <td>29</td>\n",
       "      <td>1</td>\n",
       "      <td>0</td>\n",
       "      <td>3</td>\n",
       "      <td>5</td>\n",
       "      <td>151</td>\n",
       "      <td>1</td>\n",
       "      <td>-1</td>\n",
       "      <td>0</td>\n",
       "      <td>0</td>\n",
       "    </tr>\n",
       "    <tr>\n",
       "      <th>2</th>\n",
       "      <td>33</td>\n",
       "      <td>entrepreneur</td>\n",
       "      <td>married</td>\n",
       "      <td>secondary</td>\n",
       "      <td>0</td>\n",
       "      <td>2</td>\n",
       "      <td>1</td>\n",
       "      <td>1</td>\n",
       "      <td>3</td>\n",
       "      <td>5</td>\n",
       "      <td>76</td>\n",
       "      <td>1</td>\n",
       "      <td>-1</td>\n",
       "      <td>0</td>\n",
       "      <td>0</td>\n",
       "    </tr>\n",
       "    <tr>\n",
       "      <th>3</th>\n",
       "      <td>47</td>\n",
       "      <td>blue-collar</td>\n",
       "      <td>married</td>\n",
       "      <td>unknown</td>\n",
       "      <td>0</td>\n",
       "      <td>1506</td>\n",
       "      <td>1</td>\n",
       "      <td>0</td>\n",
       "      <td>3</td>\n",
       "      <td>5</td>\n",
       "      <td>92</td>\n",
       "      <td>1</td>\n",
       "      <td>-1</td>\n",
       "      <td>0</td>\n",
       "      <td>0</td>\n",
       "    </tr>\n",
       "    <tr>\n",
       "      <th>4</th>\n",
       "      <td>33</td>\n",
       "      <td>unknown</td>\n",
       "      <td>single</td>\n",
       "      <td>unknown</td>\n",
       "      <td>0</td>\n",
       "      <td>1</td>\n",
       "      <td>0</td>\n",
       "      <td>0</td>\n",
       "      <td>3</td>\n",
       "      <td>5</td>\n",
       "      <td>198</td>\n",
       "      <td>1</td>\n",
       "      <td>-1</td>\n",
       "      <td>0</td>\n",
       "      <td>0</td>\n",
       "    </tr>\n",
       "  </tbody>\n",
       "</table>\n",
       "</div>"
      ],
      "text/plain": [
       "   age           job  marital  education  default  balance  housing  loan  \\\n",
       "0   58    management  married   tertiary        0     2143        1     0   \n",
       "1   44    technician   single  secondary        0       29        1     0   \n",
       "2   33  entrepreneur  married  secondary        0        2        1     1   \n",
       "3   47   blue-collar  married    unknown        0     1506        1     0   \n",
       "4   33       unknown   single    unknown        0        1        0     0   \n",
       "\n",
       "   contact  month  duration  campaign  pdays  previous  Target  \n",
       "0        3      5       261         1     -1         0       0  \n",
       "1        3      5       151         1     -1         0       0  \n",
       "2        3      5        76         1     -1         0       0  \n",
       "3        3      5        92         1     -1         0       0  \n",
       "4        3      5       198         1     -1         0       0  "
      ]
     },
     "execution_count": 1,
     "metadata": {},
     "output_type": "execute_result"
    }
   ],
   "source": [
    "import matplotlib.pyplot as plt\n",
    "import seaborn as sns\n",
    "import pandas as pd\n",
    "import numpy as np\n",
    "\n",
    "from sklearn.metrics import accuracy_score\n",
    "from sklearn.neighbors import KNeighborsClassifier\n",
    "\n",
    "from sklearn.tree import DecisionTreeClassifier\n",
    "from sklearn.ensemble import RandomForestClassifier, AdaBoostClassifier, GradientBoostingClassifier\n",
    "\n",
    "\n",
    "from sklearn.linear_model import LogisticRegression\n",
    "from sklearn import metrics as m\n",
    "from sklearn.model_selection import StratifiedShuffleSplit\n",
    "from sklearn.model_selection import ShuffleSplit\n",
    "from sklearn.metrics import roc_auc_score\n",
    "\n",
    "data=pd.read_csv(\"bank-full.csv\")\n",
    "data = data.drop(['day','poutcome'],axis=1)\n",
    "\n",
    "def binaryType_(data):\n",
    "    \n",
    "    data.Target.replace(('yes', 'no'), (1, 0), inplace=True)\n",
    "    data.default.replace(('yes','no'),(1,0),inplace=True)\n",
    "    data.housing.replace(('yes','no'),(1,0),inplace=True)\n",
    "    data.loan.replace(('yes','no'),(1,0),inplace=True)\n",
    "    #data.marital.replace(('married','single','divorced'),(1,2,3),inplace=True)\n",
    "    data.contact.replace(('telephone','cellular','unknown'),(1,2,3),inplace=True)\n",
    "    data.month.replace(('jan','feb','mar','apr','may','jun','jul','aug','sep','oct','nov','dec'),(1,2,3,4,5,6,7,8,9,10,11,12),inplace=True)\n",
    "    #data.education.replace(('primary','secondary','tertiary','unknown'),(1,2,3,4),inplace=True)\n",
    "    \n",
    "    return data\n",
    "\n",
    "data = binaryType_(data)\n",
    "\n",
    "\n",
    "data.head()\n"
   ]
  },
  {
   "cell_type": "code",
   "execution_count": 2,
   "metadata": {},
   "outputs": [
    {
     "data": {
      "text/html": [
       "<div>\n",
       "<style scoped>\n",
       "    .dataframe tbody tr th:only-of-type {\n",
       "        vertical-align: middle;\n",
       "    }\n",
       "\n",
       "    .dataframe tbody tr th {\n",
       "        vertical-align: top;\n",
       "    }\n",
       "\n",
       "    .dataframe thead th {\n",
       "        text-align: right;\n",
       "    }\n",
       "</style>\n",
       "<table border=\"1\" class=\"dataframe\">\n",
       "  <thead>\n",
       "    <tr style=\"text-align: right;\">\n",
       "      <th></th>\n",
       "      <th>age</th>\n",
       "      <th>default</th>\n",
       "      <th>balance</th>\n",
       "      <th>housing</th>\n",
       "      <th>loan</th>\n",
       "      <th>contact</th>\n",
       "      <th>month</th>\n",
       "      <th>duration</th>\n",
       "      <th>campaign</th>\n",
       "      <th>pdays</th>\n",
       "      <th>previous</th>\n",
       "      <th>Target</th>\n",
       "    </tr>\n",
       "  </thead>\n",
       "  <tbody>\n",
       "    <tr>\n",
       "      <th>count</th>\n",
       "      <td>45211.000000</td>\n",
       "      <td>45211.000000</td>\n",
       "      <td>45211.000000</td>\n",
       "      <td>45211.000000</td>\n",
       "      <td>45211.000000</td>\n",
       "      <td>45211.000000</td>\n",
       "      <td>45211.000000</td>\n",
       "      <td>45211.000000</td>\n",
       "      <td>45211.000000</td>\n",
       "      <td>45211.000000</td>\n",
       "      <td>45211.000000</td>\n",
       "      <td>45211.000000</td>\n",
       "    </tr>\n",
       "    <tr>\n",
       "      <th>mean</th>\n",
       "      <td>40.936210</td>\n",
       "      <td>0.018027</td>\n",
       "      <td>1362.272058</td>\n",
       "      <td>0.555838</td>\n",
       "      <td>0.160226</td>\n",
       "      <td>2.223707</td>\n",
       "      <td>6.144655</td>\n",
       "      <td>258.163080</td>\n",
       "      <td>2.763841</td>\n",
       "      <td>40.197828</td>\n",
       "      <td>0.580323</td>\n",
       "      <td>0.116985</td>\n",
       "    </tr>\n",
       "    <tr>\n",
       "      <th>std</th>\n",
       "      <td>10.618762</td>\n",
       "      <td>0.133049</td>\n",
       "      <td>3044.765829</td>\n",
       "      <td>0.496878</td>\n",
       "      <td>0.366820</td>\n",
       "      <td>0.549747</td>\n",
       "      <td>2.408034</td>\n",
       "      <td>257.527812</td>\n",
       "      <td>3.098021</td>\n",
       "      <td>100.128746</td>\n",
       "      <td>2.303441</td>\n",
       "      <td>0.321406</td>\n",
       "    </tr>\n",
       "    <tr>\n",
       "      <th>min</th>\n",
       "      <td>18.000000</td>\n",
       "      <td>0.000000</td>\n",
       "      <td>-8019.000000</td>\n",
       "      <td>0.000000</td>\n",
       "      <td>0.000000</td>\n",
       "      <td>1.000000</td>\n",
       "      <td>1.000000</td>\n",
       "      <td>0.000000</td>\n",
       "      <td>1.000000</td>\n",
       "      <td>-1.000000</td>\n",
       "      <td>0.000000</td>\n",
       "      <td>0.000000</td>\n",
       "    </tr>\n",
       "    <tr>\n",
       "      <th>25%</th>\n",
       "      <td>33.000000</td>\n",
       "      <td>0.000000</td>\n",
       "      <td>72.000000</td>\n",
       "      <td>0.000000</td>\n",
       "      <td>0.000000</td>\n",
       "      <td>2.000000</td>\n",
       "      <td>5.000000</td>\n",
       "      <td>103.000000</td>\n",
       "      <td>1.000000</td>\n",
       "      <td>-1.000000</td>\n",
       "      <td>0.000000</td>\n",
       "      <td>0.000000</td>\n",
       "    </tr>\n",
       "    <tr>\n",
       "      <th>50%</th>\n",
       "      <td>39.000000</td>\n",
       "      <td>0.000000</td>\n",
       "      <td>448.000000</td>\n",
       "      <td>1.000000</td>\n",
       "      <td>0.000000</td>\n",
       "      <td>2.000000</td>\n",
       "      <td>6.000000</td>\n",
       "      <td>180.000000</td>\n",
       "      <td>2.000000</td>\n",
       "      <td>-1.000000</td>\n",
       "      <td>0.000000</td>\n",
       "      <td>0.000000</td>\n",
       "    </tr>\n",
       "    <tr>\n",
       "      <th>75%</th>\n",
       "      <td>48.000000</td>\n",
       "      <td>0.000000</td>\n",
       "      <td>1428.000000</td>\n",
       "      <td>1.000000</td>\n",
       "      <td>0.000000</td>\n",
       "      <td>3.000000</td>\n",
       "      <td>8.000000</td>\n",
       "      <td>319.000000</td>\n",
       "      <td>3.000000</td>\n",
       "      <td>-1.000000</td>\n",
       "      <td>0.000000</td>\n",
       "      <td>0.000000</td>\n",
       "    </tr>\n",
       "    <tr>\n",
       "      <th>max</th>\n",
       "      <td>95.000000</td>\n",
       "      <td>1.000000</td>\n",
       "      <td>102127.000000</td>\n",
       "      <td>1.000000</td>\n",
       "      <td>1.000000</td>\n",
       "      <td>3.000000</td>\n",
       "      <td>12.000000</td>\n",
       "      <td>4918.000000</td>\n",
       "      <td>63.000000</td>\n",
       "      <td>871.000000</td>\n",
       "      <td>275.000000</td>\n",
       "      <td>1.000000</td>\n",
       "    </tr>\n",
       "  </tbody>\n",
       "</table>\n",
       "</div>"
      ],
      "text/plain": [
       "                age       default        balance       housing          loan  \\\n",
       "count  45211.000000  45211.000000   45211.000000  45211.000000  45211.000000   \n",
       "mean      40.936210      0.018027    1362.272058      0.555838      0.160226   \n",
       "std       10.618762      0.133049    3044.765829      0.496878      0.366820   \n",
       "min       18.000000      0.000000   -8019.000000      0.000000      0.000000   \n",
       "25%       33.000000      0.000000      72.000000      0.000000      0.000000   \n",
       "50%       39.000000      0.000000     448.000000      1.000000      0.000000   \n",
       "75%       48.000000      0.000000    1428.000000      1.000000      0.000000   \n",
       "max       95.000000      1.000000  102127.000000      1.000000      1.000000   \n",
       "\n",
       "            contact         month      duration      campaign         pdays  \\\n",
       "count  45211.000000  45211.000000  45211.000000  45211.000000  45211.000000   \n",
       "mean       2.223707      6.144655    258.163080      2.763841     40.197828   \n",
       "std        0.549747      2.408034    257.527812      3.098021    100.128746   \n",
       "min        1.000000      1.000000      0.000000      1.000000     -1.000000   \n",
       "25%        2.000000      5.000000    103.000000      1.000000     -1.000000   \n",
       "50%        2.000000      6.000000    180.000000      2.000000     -1.000000   \n",
       "75%        3.000000      8.000000    319.000000      3.000000     -1.000000   \n",
       "max        3.000000     12.000000   4918.000000     63.000000    871.000000   \n",
       "\n",
       "           previous        Target  \n",
       "count  45211.000000  45211.000000  \n",
       "mean       0.580323      0.116985  \n",
       "std        2.303441      0.321406  \n",
       "min        0.000000      0.000000  \n",
       "25%        0.000000      0.000000  \n",
       "50%        0.000000      0.000000  \n",
       "75%        0.000000      0.000000  \n",
       "max      275.000000      1.000000  "
      ]
     },
     "execution_count": 2,
     "metadata": {},
     "output_type": "execute_result"
    }
   ],
   "source": [
    "data.describe()"
   ]
  },
  {
   "cell_type": "markdown",
   "metadata": {},
   "source": [
    "<b>Outlier</b>\n",
    "\n",
    "Data_point > (Q3 * 1.5) is said to be outlier where Q3 is 75% Quantile !"
   ]
  },
  {
   "cell_type": "markdown",
   "metadata": {},
   "source": [
    "<b>Age</b>\n",
    "\n",
    "* Average age of the people in the dataset is ~41 with std of 10.61\n",
    "   * Min. age is 18\n",
    "   * Max. age is 95\n",
    "   * quantile 75%(percentile) refers that 75 percentage of the people have 49 or less  age.\n",
    "   * As 95 is max, there is great chance that its a outlier \"49*(3/2) = 73.5\". So anything greater than 73.5 is outlier."
   ]
  },
  {
   "cell_type": "markdown",
   "metadata": {},
   "source": [
    "<b>Balance:</b>\n",
    "\n",
    "* Average balance of the people in the dataset is (approx)1528.53 with std of 3255.41, as standard deviation is quite huge it means that balance is wide spread across the dataset.\n",
    "   * Min. balance is -6847\n",
    "   * Max. balance is 81204\n",
    "   * quantile 75%(percentile) refers that 75 percentage of the people have 1708 or less balance.\n",
    "   * while comparing with 75% quantile, 81204 is very huge and its a outlier data point.\n"
   ]
  },
  {
   "cell_type": "markdown",
   "metadata": {},
   "source": [
    "<b>Duration:</b>\n",
    "    \n",
    "* Average duration of the people speaking in the dataset is (approx)371 with std of 347, as standard deviation is quite huge it means that duration is wide spread across the dataset.\n",
    "* Min. duration is 2\n",
    "* Max. duration is 3881\n",
    "* quantile 75%(percentile) refers that 75 percentage of the people spoke for 496 seconds or less.\n",
    "* while comparing with 75% quantile, 3881 is a outlier data point.\n",
    "\n"
   ]
  },
  {
   "cell_type": "markdown",
   "metadata": {},
   "source": [
    "<b>Campaign:</b>\n",
    "    \n",
    "* Average no. of contacts performed during the current campaign for a client in the dataset is (approx)2.50 with std of 2.72.\n",
    "   * Min. balance is 1\n",
    "   * Max. balance is 63\n",
    "   * quantile 75%(percentile),for 75% of records, 3 times the client has been contacted in the current campaign for a client.\n",
    "   * while comparing with 75% quantile,63 is a outlier data point."
   ]
  },
  {
   "cell_type": "markdown",
   "metadata": {},
   "source": [
    "<b>Previous:</b>\n",
    "    \n",
    "   * Average no. of contacts performed before this campaign for a client in the dataset is (approx)0.83 with std of 2.29.\n",
    "   * Min. balance is 0.\n",
    "   * Max. balance is 58\n",
    "   * quantile 75%(percentile),for 75% of records, 1 times the client has been contacted before this campaign.\n",
    "   * while comparing with 75% quantile,58 is a outlier data point."
   ]
  },
  {
   "cell_type": "code",
   "execution_count": 3,
   "metadata": {},
   "outputs": [
    {
     "data": {
      "image/png": "[encoded data removed]",
      "text/plain": [
       "<Figure size 432x288 with 1 Axes>"
      ]
     },
     "metadata": {
      "needs_background": "light"
     },
     "output_type": "display_data"
    }
   ],
   "source": [
    "plt.hist((data.duration),bins=100)\n",
    "plt.show()"
   ]
  },
  {
   "cell_type": "code",
   "execution_count": 4,
   "metadata": {},
   "outputs": [
    {
     "data": {
      "image/png": "[encoded data removed]",
      "text/plain": [
       "<Figure size 432x288 with 1 Axes>"
      ]
     },
     "metadata": {
      "needs_background": "light"
     },
     "output_type": "display_data"
    }
   ],
   "source": [
    "plt.hist(data.balance,bins=1000)\n",
    "plt.show()"
   ]
  },
  {
   "cell_type": "code",
   "execution_count": 5,
   "metadata": {},
   "outputs": [
    {
     "data": {
      "image/png": "[encoded data removed]",
      "text/plain": [
       "<Figure size 432x288 with 1 Axes>"
      ]
     },
     "metadata": {
      "needs_background": "light"
     },
     "output_type": "display_data"
    }
   ],
   "source": [
    "plt.hist(data.age,bins=10)\n",
    "plt.show()"
   ]
  },
  {
   "cell_type": "markdown",
   "metadata": {},
   "source": [
    "Above, All the Histogram suggest that data is skewed towards left i.e. existence of skewness brings us to a point that we need to sample the data efficiently while classifiying the train_data and test_data !"
   ]
  },
  {
   "cell_type": "code",
   "execution_count": 6,
   "metadata": {},
   "outputs": [
    {
     "data": {
      "image/png": "[encoded data removed]",
      "text/plain": [
       "<Figure size 648x432 with 2 Axes>"
      ]
     },
     "metadata": {
      "needs_background": "light"
     },
     "output_type": "display_data"
    }
   ],
   "source": [
    "fig = plt.figure(1, figsize=(9, 6))\n",
    "ax1 = fig.add_subplot(211)\n",
    "bp1 = ax1.boxplot(data.balance,0,'')\n",
    "ax2 = fig.add_subplot(212)\n",
    "bp2 = ax2.boxplot(data.balance,0,'gD')\n",
    "plt.show()"
   ]
  },
  {
   "cell_type": "code",
   "execution_count": 7,
   "metadata": {},
   "outputs": [
    {
     "data": {
      "image/png": "[encoded data removed]",
      "text/plain": [
       "<Figure size 432x432 with 2 Axes>"
      ]
     },
     "metadata": {
      "needs_background": "light"
     },
     "output_type": "display_data"
    }
   ],
   "source": [
    "fig = plt.figure(1, figsize=(6, 6))\n",
    "ax = fig.add_subplot(211)\n",
    "bp = ax.boxplot(data.age,0,'')\n",
    "ax = fig.add_subplot(212)\n",
    "bp = ax.boxplot(data.age,0,'gD')\n",
    "plt.show()"
   ]
  },
  {
   "cell_type": "code",
   "execution_count": 8,
   "metadata": {},
   "outputs": [
    {
     "data": {
      "image/png": "[encoded data removed]",
      "text/plain": [
       "<Figure size 648x432 with 2 Axes>"
      ]
     },
     "metadata": {
      "needs_background": "light"
     },
     "output_type": "display_data"
    }
   ],
   "source": [
    "fig = plt.figure(1, figsize=(9, 6))\n",
    "ax1 = fig.add_subplot(211)\n",
    "bp1 = ax1.boxplot(data.duration,0,'')\n",
    "ax2 = fig.add_subplot(212)\n",
    "bp2 = ax2.boxplot(data.duration,0,'gD')\n",
    "plt.show()"
   ]
  },
  {
   "cell_type": "markdown",
   "metadata": {},
   "source": [
    "Above boxplot suggest how the data is spread across the dataset Most of the data is lying above the 3rd quantile by multiplication factor of 1.5 i.e. by theortical aspect the data points are outlier for most of the data points."
   ]
  },
  {
   "cell_type": "code",
   "execution_count": 9,
   "metadata": {},
   "outputs": [
    {
     "data": {
      "image/png": "[encoded data removed]",
      "text/plain": [
       "<Figure size 1080x360 with 1 Axes>"
      ]
     },
     "metadata": {
      "needs_background": "light"
     },
     "output_type": "display_data"
    }
   ],
   "source": [
    "draw_data = pd.crosstab(data.housing, data.Target)\n",
    "draw_data.div(draw_data.sum(1).astype(float), axis=0).plot(kind='bar', stacked=True, color=['deepskyblue','steelblue'],grid=False, figsize=(15, 5))\n",
    "plt.show()"
   ]
  },
  {
   "cell_type": "code",
   "execution_count": 10,
   "metadata": {},
   "outputs": [
    {
     "data": {
      "image/png": "[encoded data removed]",
      "text/plain": [
       "<Figure size 1080x360 with 1 Axes>"
      ]
     },
     "metadata": {
      "needs_background": "light"
     },
     "output_type": "display_data"
    }
   ],
   "source": [
    "draw_data = pd.crosstab(data.default, data.Target)\n",
    "draw_data.div(draw_data.sum(1).astype(float), axis=0).plot(kind='bar', stacked=True, color=['deepskyblue','steelblue'],\n",
    "                                                           grid=False, figsize=(15, 5))\n",
    "plt.show()\n"
   ]
  },
  {
   "cell_type": "code",
   "execution_count": 11,
   "metadata": {},
   "outputs": [
    {
     "data": {
      "image/png": "[encoded data removed]",
      "text/plain": [
       "<Figure size 1080x360 with 1 Axes>"
      ]
     },
     "metadata": {
      "needs_background": "light"
     },
     "output_type": "display_data"
    }
   ],
   "source": [
    "draw_data = pd.crosstab(data.loan, data.Target)\n",
    "draw_data.div(draw_data.sum(1).astype(float), axis=0).plot(kind='bar', stacked=True, color=['deepskyblue','steelblue'],grid=False, figsize=(15, 5))\n",
    "plt.show()"
   ]
  },
  {
   "cell_type": "markdown",
   "metadata": {},
   "source": [
    "By looking at the bar graph, we can observe that Feature vs Label the data is wide spread i.e. we cannot predict completely based on feature alone. Feature Engineering\n",
    "\n",
    "First, We can convert the duration from Seconds to Minutes and then making it as categorical feature.\n",
    "\n",
    "Converting the age of the person into categorical feature by segregating the age as Adult , Middle Aged and old.\n",
    "\n",
    "Similarly we can convert the continous feature value into discrete feature value."
   ]
  },
  {
   "cell_type": "code",
   "execution_count": 12,
   "metadata": {},
   "outputs": [
    {
     "name": "stdout",
     "output_type": "stream",
     "text": [
      "Index(['age', 'job', 'marital', 'education', 'default', 'balance', 'housing',\n",
      "       'loan', 'contact', 'month', 'duration', 'campaign', 'pdays', 'previous',\n",
      "       'Target', 'Adult', 'Middle_Aged', 'old', 'primary', 'secondary',\n",
      "       'tertiary', 'unknown', 'Neg_Balance', 'No_Balance', 'Pos_Balance',\n",
      "       'Not_Contacted', 'Contacted', 't_min', 't_e_min', 'e_min',\n",
      "       'pdays_not_contacted', 'months_passed', 'married', 'singles',\n",
      "       'divorced'],\n",
      "      dtype='object')\n"
     ]
    }
   ],
   "source": [
    "def age_(data):\n",
    "    \n",
    "    data['Adult'] = 0\n",
    "    data['Middle_Aged'] = 0\n",
    "    data['old'] = 0    \n",
    "    data.loc[(data['age'] <= 35) & (data['age'] >= 18),'Adult'] = 1\n",
    "    data.loc[(data['age'] <= 60) & (data['age'] >= 36),'Middle_Aged'] = 1\n",
    "    #data.loc[(data['age'] <= 60) & (data['age'] >= 46),'Elderly'] = 1\n",
    "    data.loc[data['age'] >=61,'old'] = 1\n",
    "    \n",
    "    return data\n",
    "\n",
    "def campaign_(data):\n",
    "    \n",
    "    \n",
    "    data.loc[data['campaign'] == 1,'campaign'] = 1\n",
    "    data.loc[(data['campaign'] >= 2) & (data['campaign'] <= 3),'campaign'] = 2\n",
    "    data.loc[data['campaign'] >= 4,'campaign'] = 3\n",
    "    \n",
    "    return data\n",
    "\n",
    "def duration_(data):\n",
    "    \n",
    "    data['t_min'] = 0\n",
    "    data['t_e_min'] = 0\n",
    "    data['e_min']=0\n",
    "    data.loc[data['duration'] <= 5,'t_min'] = 1\n",
    "    data.loc[(data['duration'] > 5) & (data['duration'] <= 10),'t_e_min'] = 1\n",
    "    data.loc[data['duration'] > 10,'e_min'] = 1\n",
    "    \n",
    "    return data\n",
    "\n",
    "def pdays_(data):\n",
    "    data['pdays_not_contacted'] = 0\n",
    "    data['months_passed'] = 0\n",
    "    data.loc[data['pdays'] == -1 ,'pdays_not_contacted'] = 1\n",
    "    data['months_passed'] = data['pdays']/30\n",
    "    data.loc[(data['months_passed'] >= 0) & (data['months_passed'] <=2) ,'months_passed'] = 1\n",
    "    data.loc[(data['months_passed'] > 2) & (data['months_passed'] <=6),'months_passed'] = 2\n",
    "    data.loc[data['months_passed'] > 6 ,'months_passed'] = 3\n",
    "    \n",
    "    return data\n",
    "\n",
    "def previous_(data):\n",
    "    \n",
    "    data['Not_Contacted'] = 0\n",
    "    data['Contacted'] = 0\n",
    "    data.loc[data['previous'] == 0 ,'Not_Contacted'] = 1\n",
    "    data.loc[(data['previous'] >= 1) & (data['pdays'] <=99) ,'Contacted'] = 1\n",
    "    data.loc[data['previous'] >= 100,'Contacted'] = 2\n",
    "    \n",
    "    return data\n",
    "\n",
    "def balance_(data):\n",
    "    data['Neg_Balance'] = 0\n",
    "    data['No_Balance'] = 0\n",
    "    data['Pos_Balance'] = 0\n",
    "    \n",
    "    data.loc[~data['balance']<0,'Neg_Balance'] = 1\n",
    "    data.loc[data['balance'] == 0,'No_Balance'] = 1\n",
    "    data.loc[(data['balance'] >= 1) & (data['balance'] <= 100),'Pos_Balance'] = 1\n",
    "    data.loc[(data['balance'] >= 101) & (data['balance'] <= 500),'Pos_Balance'] = 2\n",
    "    data.loc[(data['balance'] >= 501) & (data['balance'] <= 2000),'Pos_Balance'] = 3\n",
    "    data.loc[(data['balance'] >= 2001) & (data['balance'] <= 10000),'Pos_Balance'] = 4\n",
    "    data.loc[data['balance'] >= 10001,'Pos_Balance'] = 5\n",
    "    \n",
    "    return data\n",
    "\n",
    "def job_(data):\n",
    "    \n",
    "    data.loc[data['job'] == \"management\",'job'] = 1\n",
    "    data.loc[data['job'] == \"technician\",'job'] = 2\n",
    "    data.loc[data['job'] == \"entrepreneur\",'job'] = 3\n",
    "    data.loc[data['job'] == \"blue-collar\",'job'] = 4\n",
    "    data.loc[data['job'] == \"retired\",'job'] = 5\n",
    "    data.loc[data['job'] == \"admin.\",'job'] = 6\n",
    "    data.loc[data['job'] == \"services\",'job'] = 7\n",
    "    data.loc[data['job'] == \"self-employed\",'job'] = 8\n",
    "    data.loc[data['job'] == \"unemployed\",'job'] = 9\n",
    "    data.loc[data['job'] == \"student\",'job'] = 10\n",
    "    data.loc[data['job'] == \"housemaid\",'job'] = 11\n",
    "    data.loc[data['job'] == \"unknown\",'job'] = 12\n",
    "    \n",
    "    return data\n",
    "\n",
    "def marital_(data):\n",
    "    \n",
    "    data['married'] = 0\n",
    "    data['singles'] = 0\n",
    "    data['divorced'] = 0\n",
    "    data.loc[data['marital'] == 'married','married'] = 1\n",
    "    data.loc[data['marital'] == 'singles','singles'] = 1\n",
    "    data.loc[data['marital'] == 'divorced','divorced'] = 1\n",
    "    \n",
    "    return data\n",
    "\n",
    "def education_(data):\n",
    "    \n",
    "    data['primary'] = 0\n",
    "    data['secondary'] = 0\n",
    "    data['tertiary'] = 0\n",
    "    data['unknown'] = 0\n",
    "    data.loc[data['education'] == 'primary','primary'] = 1\n",
    "    data.loc[data['education'] == 'secondary','secondary'] = 1\n",
    "    data.loc[data['education'] == 'tertiary','tertiary'] = 1\n",
    "    data.loc[data['education'] == 'unknown','unknown'] = 1    \n",
    "    \n",
    "    return data\n",
    "\n",
    "data = campaign_(data)\n",
    "data = age_(data)\n",
    "data = education_(data)\n",
    "data = balance_(data)\n",
    "data = job_(data)\n",
    "data = previous_(data)\n",
    "data = duration_(data)\n",
    "data = pdays_(data)\n",
    "data = marital_(data)\n",
    "print(data.columns)"
   ]
  },
  {
   "cell_type": "markdown",
   "metadata": {},
   "source": [
    "<b>Plotting bar chart :</b>"
   ]
  },
  {
   "cell_type": "markdown",
   "metadata": {},
   "source": []
  },
  {
   "cell_type": "markdown",
   "metadata": {},
   "source": [
    "<b>data.Adult vs data.Target :</b>\n",
    "\n",
    "The data is spread equally opting for term deposit or not."
   ]
  },
  {
   "cell_type": "markdown",
   "metadata": {},
   "source": [
    "<b>data.Middle_Aged vs data.Target :</b>\n",
    "    \n",
    "    The data is pointing out that people opt less for term deposit."
   ]
  },
  {
   "cell_type": "markdown",
   "metadata": {},
   "source": [
    "<b>data.old vs data.Target :</b>\n",
    "\n",
    "The data is points out that people opt more for term deposit as it covers people who are retired.\n",
    "\n",
    "<b>data.t_min vs data.Target :</b>\n",
    "\n",
    "The data point brings out the fact that if the client is less interested in enrolling for term deposit, he/she is ready to invest less time on call with the agent.\n",
    "\n",
    "Note : t_min - Five minutes or less\n",
    "\n",
    "<b>data.t_e_min vs data.Target :</b>\n",
    "\n",
    "The data points brings out the fact that if the client is interested in enrolling for term deposit, he/she is ready to investing minimum of 5 to 10 minute time on call with the agent.\n",
    "\n",
    "Note : t_e_min - greater than Five minutes or more\n",
    "\n",
    "<b>data.e_min vs data.Target :</b>\n",
    "\n",
    "The data points suggest that if the client is very much interested in enrolling for term deposit, he/she is ready to investing more than 10 minute of time on call with the agent.\n",
    "\n",
    "Note : e_min - greater than ten minutes or more\n",
    "\n",
    "<b>data.pdays_not_contacted vs data.Target :</b>\n",
    "\n",
    "The data points refers to the client who were not contacted in the previous campaign.And it looks like the people are contaced in current campaign are not contacted previously.\n",
    "\n",
    "<b>data.months_passed vs data.Target :</b>\n",
    "\n",
    "The data points refers to the months passed after the client has been contacted before the current campaign.\n",
    "\n",
    "<b>data.Contacted vs data.Target :</b>\n",
    "\n",
    "The data points refers to the no. of times a client has been contacted before this campaign.Fewer no. of contacts are more likely to enroll for term deposit\n",
    "\n",
    "<b>data.not_Contacted vs data.Target :</b>\n",
    "\n",
    "The data points refers that no contact is made for a client before this campaign. Not contacted Clients are less likely to enroll for term Target\n",
    "\n",
    "<b>data.Pos_Balance vs data.Target :</b>\n",
    "\n",
    "Here, We can clearly see as the balance in the account increases the no. of client enrolling for the term deposit is more and more.\n",
    "\n",
    "<b>data.No_Balance vs data.Target :</b>\n",
    "\n",
    "Here, We can see as the balance in the account is zero, the no. of client enrolling for the term deposit are less.\n",
    "\n",
    "<b>data.Neg_Balance vs data.Target :</b>\n",
    "\n",
    "We can infer that as the balance in the account is -ve, the no. of client enrolling for the term deposit are very less and feature come in place while classifying such data points\n",
    "\n",
    "<b>data.campaign vs data.Target :</b>\n",
    "\n",
    "The data points refers that no. of contact made to a client in this campaign. If a client is contacted once or twice are more likely to enroll than clients who are contacted more than 3 times.\n"
   ]
  },
  {
   "cell_type": "code",
   "execution_count": 13,
   "metadata": {},
   "outputs": [
    {
     "data": {
      "image/png": "[encoded data removed]",
      "text/plain": [
       "<Figure size 1080x360 with 1 Axes>"
      ]
     },
     "metadata": {
      "needs_background": "light"
     },
     "output_type": "display_data"
    }
   ],
   "source": [
    "draw_data = pd.crosstab(data.Adult, data.Target)\n",
    "draw_data.div(draw_data.sum(1).astype(float), axis=0).plot(kind='bar', stacked=True, color=['deepskyblue','steelblue'],grid=False, figsize=(15, 5))\n",
    "plt.show()"
   ]
  },
  {
   "cell_type": "code",
   "execution_count": 14,
   "metadata": {},
   "outputs": [
    {
     "data": {
      "image/png": "[encoded data removed]",
      "text/plain": [
       "<Figure size 1080x360 with 1 Axes>"
      ]
     },
     "metadata": {
      "needs_background": "light"
     },
     "output_type": "display_data"
    }
   ],
   "source": [
    "draw_data = pd.crosstab(data.Middle_Aged, data.Target)\n",
    "draw_data.div(draw_data.sum(1).astype(float), axis=0).plot(kind='bar', stacked=True, color=['deepskyblue','steelblue'],grid=False, figsize=(15, 5))\n",
    "plt.show()\n"
   ]
  },
  {
   "cell_type": "code",
   "execution_count": 15,
   "metadata": {},
   "outputs": [
    {
     "data": {
      "image/png": "[encoded data removed]",
      "text/plain": [
       "<Figure size 1080x360 with 1 Axes>"
      ]
     },
     "metadata": {
      "needs_background": "light"
     },
     "output_type": "display_data"
    }
   ],
   "source": [
    "draw_data = pd.crosstab(data.old, data.Target)\n",
    "draw_data.div(draw_data.sum(1).astype(float), axis=0).plot(kind='bar', stacked=True, color=['deepskyblue','steelblue'],grid=False, figsize=(15, 5))\n",
    "plt.show()"
   ]
  },
  {
   "cell_type": "code",
   "execution_count": 16,
   "metadata": {},
   "outputs": [
    {
     "data": {
      "image/png": "[encoded data removed]",
      "text/plain": [
       "<Figure size 1080x360 with 1 Axes>"
      ]
     },
     "metadata": {
      "needs_background": "light"
     },
     "output_type": "display_data"
    }
   ],
   "source": [
    "draw_data = pd.crosstab(data.t_min, data.Target)\n",
    "draw_data.div(draw_data.sum(1).astype(float), axis=0).plot(kind='bar', stacked=False, color=['deepskyblue','steelblue'],grid=False, figsize=(15, 5))\n",
    "plt.show()"
   ]
  },
  {
   "cell_type": "code",
   "execution_count": 17,
   "metadata": {},
   "outputs": [
    {
     "data": {
      "image/png": "[encoded data removed]",
      "text/plain": [
       "<Figure size 1080x360 with 1 Axes>"
      ]
     },
     "metadata": {
      "needs_background": "light"
     },
     "output_type": "display_data"
    }
   ],
   "source": [
    "draw_data = pd.crosstab(data.t_e_min, data.Target)\n",
    "draw_data.div(draw_data.sum(1).astype(float), axis=0).plot(kind='bar', stacked=False, color=['deepskyblue','steelblue'],grid=False, figsize=(15, 5))\n",
    "plt.show()"
   ]
  },
  {
   "cell_type": "code",
   "execution_count": 18,
   "metadata": {},
   "outputs": [
    {
     "data": {
      "image/png": "[encoded data removed]",
      "text/plain": [
       "<Figure size 1080x360 with 1 Axes>"
      ]
     },
     "metadata": {
      "needs_background": "light"
     },
     "output_type": "display_data"
    }
   ],
   "source": [
    "draw_data = pd.crosstab(data.e_min, data.Target)\n",
    "draw_data.div(draw_data.sum(1).astype(float), axis=0).plot(kind='bar', stacked=False, color=['deepskyblue','steelblue'],grid=False, figsize=(15, 5))\n",
    "plt.show()"
   ]
  },
  {
   "cell_type": "code",
   "execution_count": 19,
   "metadata": {},
   "outputs": [
    {
     "data": {
      "image/png": "[encoded data removed]",
      "text/plain": [
       "<Figure size 1080x360 with 1 Axes>"
      ]
     },
     "metadata": {
      "needs_background": "light"
     },
     "output_type": "display_data"
    }
   ],
   "source": [
    "draw_data = pd.crosstab(data.pdays_not_contacted, data.Target)\n",
    "draw_data.div(draw_data.sum(1).astype(float), axis=0).plot(kind='bar', stacked=False, color=['deepskyblue','steelblue'],grid=False, figsize=(15, 5))\n",
    "plt.show()"
   ]
  },
  {
   "cell_type": "code",
   "execution_count": 20,
   "metadata": {},
   "outputs": [
    {
     "data": {
      "image/png": "[encoded data removed]",
      "text/plain": [
       "<Figure size 1080x360 with 1 Axes>"
      ]
     },
     "metadata": {
      "needs_background": "light"
     },
     "output_type": "display_data"
    }
   ],
   "source": [
    "draw_data = pd.crosstab(data.months_passed, data.Target)\n",
    "draw_data.div(draw_data.sum(1).astype(int), axis=0).plot(kind='bar', stacked=False, color=['deepskyblue','steelblue'],grid=False, figsize=(15, 5))\n",
    "plt.show()"
   ]
  },
  {
   "cell_type": "code",
   "execution_count": 21,
   "metadata": {},
   "outputs": [
    {
     "data": {
      "image/png": "[encoded data removed]",
      "text/plain": [
       "<Figure size 1080x360 with 1 Axes>"
      ]
     },
     "metadata": {
      "needs_background": "light"
     },
     "output_type": "display_data"
    }
   ],
   "source": [
    "draw_data = pd.crosstab(data.Contacted, data.Target)\n",
    "draw_data.div(draw_data.sum(1).astype(float), axis=0).plot(kind='bar', stacked=False, color=['deepskyblue','steelblue'],grid=False, figsize=(15, 5))\n",
    "plt.show()"
   ]
  },
  {
   "cell_type": "code",
   "execution_count": 22,
   "metadata": {},
   "outputs": [
    {
     "data": {
      "image/png": "[encoded data removed]",
      "text/plain": [
       "<Figure size 1080x360 with 1 Axes>"
      ]
     },
     "metadata": {
      "needs_background": "light"
     },
     "output_type": "display_data"
    }
   ],
   "source": [
    "draw_data = pd.crosstab(data.Not_Contacted, data.Target)\n",
    "draw_data.div(draw_data.sum(1).astype(float), axis=0).plot(kind='bar', stacked=False, color=['deepskyblue','steelblue'],grid=False, figsize=(15, 5))\n",
    "plt.show()"
   ]
  },
  {
   "cell_type": "code",
   "execution_count": 23,
   "metadata": {},
   "outputs": [
    {
     "data": {
      "image/png": "[encoded data removed]",
      "text/plain": [
       "<Figure size 1080x360 with 1 Axes>"
      ]
     },
     "metadata": {
      "needs_background": "light"
     },
     "output_type": "display_data"
    }
   ],
   "source": [
    "draw_data = pd.crosstab(data.Pos_Balance, data.Target)\n",
    "draw_data.div(draw_data.sum(1).astype(float), axis=0).plot(kind='bar', stacked=False, color=['deepskyblue','steelblue'],grid=False, figsize=(15, 5))\n",
    "plt.show()"
   ]
  },
  {
   "cell_type": "code",
   "execution_count": 24,
   "metadata": {},
   "outputs": [
    {
     "data": {
      "image/png": "[encoded data removed]",
      "text/plain": [
       "<Figure size 1080x360 with 1 Axes>"
      ]
     },
     "metadata": {
      "needs_background": "light"
     },
     "output_type": "display_data"
    }
   ],
   "source": [
    "draw_data = pd.crosstab(data.No_Balance, data.Target)\n",
    "draw_data.div(draw_data.sum(1).astype(float), axis=0).plot(kind='bar', stacked=False, color=['deepskyblue','steelblue'],grid=False, figsize=(15, 5))\n",
    "plt.show()"
   ]
  },
  {
   "cell_type": "code",
   "execution_count": 25,
   "metadata": {},
   "outputs": [
    {
     "data": {
      "image/png": "[encoded data removed]",
      "text/plain": [
       "<Figure size 1080x360 with 1 Axes>"
      ]
     },
     "metadata": {
      "needs_background": "light"
     },
     "output_type": "display_data"
    }
   ],
   "source": [
    "draw_data = pd.crosstab(data.Neg_Balance, data.Target)\n",
    "draw_data.div(draw_data.sum(1).astype(float), axis=0).plot(kind='bar', stacked=False, color=['deepskyblue','steelblue'],grid=False, figsize=(15, 5))\n",
    "plt.show()"
   ]
  },
  {
   "cell_type": "code",
   "execution_count": 26,
   "metadata": {},
   "outputs": [
    {
     "data": {
      "image/png": "[encoded data removed]",
      "text/plain": [
       "<Figure size 1080x360 with 1 Axes>"
      ]
     },
     "metadata": {
      "needs_background": "light"
     },
     "output_type": "display_data"
    }
   ],
   "source": [
    "draw_data = pd.crosstab(data.campaign, data.Target)\n",
    "draw_data.div(draw_data.sum(1).astype(float), axis=0).plot(kind='bar', stacked=False, color=['deepskyblue','steelblue'],grid=False, figsize=(15, 5))\n",
    "plt.show()"
   ]
  },
  {
   "cell_type": "code",
   "execution_count": 27,
   "metadata": {},
   "outputs": [
    {
     "data": {
      "image/png": "[encoded data removed]",
      "text/plain": [
       "<Figure size 1080x360 with 1 Axes>"
      ]
     },
     "metadata": {
      "needs_background": "light"
     },
     "output_type": "display_data"
    }
   ],
   "source": [
    "draw_data = pd.crosstab(data.marital, data.Target)\n",
    "draw_data.div(draw_data.sum(1).astype(float), axis=0).plot(kind='bar', stacked=False, color=['deepskyblue','steelblue'],grid=False, figsize=(15, 5))\n",
    "plt.show()"
   ]
  },
  {
   "cell_type": "code",
   "execution_count": 28,
   "metadata": {},
   "outputs": [
    {
     "data": {
      "image/png": "[encoded data removed]",
      "text/plain": [
       "<Figure size 1080x360 with 1 Axes>"
      ]
     },
     "metadata": {
      "needs_background": "light"
     },
     "output_type": "display_data"
    }
   ],
   "source": [
    "draw_data = pd.crosstab(data.education, data.Target)\n",
    "draw_data.div(draw_data.sum(1).astype(float), axis=0).plot(kind='bar', stacked=False, color=['deepskyblue','steelblue'],grid=False, figsize=(15, 5))\n",
    "plt.show()"
   ]
  },
  {
   "cell_type": "markdown",
   "metadata": {},
   "source": [
    "Classifiers : Based on the values of different parameters we can conclude to the following classifiers for Binary Classification.\n",
    "\n",
    "Gradient Boosting\n",
    "AdaBoosting\n",
    "Random Forest Classifier\n",
    "DecisionTree Classifier\n",
    "\n",
    "And performance metric using precision and recall calculation along with roc_auc_score & accuracy_score"
   ]
  },
  {
   "cell_type": "code",
   "execution_count": 29,
   "metadata": {},
   "outputs": [],
   "source": [
    "classifiers = {'Logistic Regression':LogisticRegression(),'K Nearest Neighbour':KNeighborsClassifier(8),\n",
    "               'Gradient Boosting Classifier':GradientBoostingClassifier(),\n",
    "               'Gradient Boost Classifier with HyperParamters tuning':GradientBoostingClassifier(learning_rate=0.01, n_estimators=600,max_depth=9, min_samples_split=1200,min_samples_leaf=50, subsample=0.85, random_state=10, max_features=7),\n",
    "               'Adaptive Boosting Classifier':AdaBoostClassifier(),\n",
    "               'Adaptive Boost Classifier with Hyperparameters':AdaBoostClassifier(n_estimators=250),\n",
    "               'Random Forest Classifier': RandomForestClassifier(),\n",
    "              'Random Forest Classifier With HyperParameters tuning': RandomForestClassifier(random_state = 1,\n",
    "                                  n_estimators = 750,\n",
    "                                  max_depth = 15, \n",
    "                                  min_samples_split = 5,  min_samples_leaf = 1), \n",
    "               'Decision Tree Classifier':DecisionTreeClassifier(),\n",
    "              'Decision Tree Classifier with Hyperparameters tuning':DecisionTreeClassifier(min_samples_leaf=50, max_depth=9, max_features=7, criterion='gini')}"
   ]
  },
  {
   "cell_type": "code",
   "execution_count": 30,
   "metadata": {},
   "outputs": [
    {
     "name": "stdout",
     "output_type": "stream",
     "text": [
      "Index(['job', 'default', 'housing', 'loan', 'contact', 'month', 'campaign',\n",
      "       'Adult', 'Middle_Aged', 'old', 'primary', 'secondary', 'tertiary',\n",
      "       'unknown', 'Neg_Balance', 'No_Balance', 'Pos_Balance', 'Not_Contacted',\n",
      "       'Contacted', 't_min', 't_e_min', 'e_min', 'pdays_not_contacted',\n",
      "       'months_passed', 'married', 'singles', 'divorced'],\n",
      "      dtype='object')\n"
     ]
    }
   ],
   "source": [
    "data_y = pd.DataFrame(data['Target'])\n",
    "data_X = data.drop(['Target','balance','previous','pdays','age','duration','education','marital'],axis=1)\n",
    "print(data_X.columns)\n",
    "log_cols = [\"Classifier\", \"Accuracy\",\"Precision Score\",\"Recall Score\",\"F1-Score\",\"roc-auc_Score\"]\n",
    "\n",
    "log = pd.DataFrame(columns=log_cols)"
   ]
  },
  {
   "cell_type": "code",
   "execution_count": 31,
   "metadata": {},
   "outputs": [
    {
     "name": "stdout",
     "output_type": "stream",
     "text": [
      "                                          Classifier  Accuracy  \\\n",
      "0                                Logistic Regression  0.883888   \n",
      "0                                Logistic Regression  0.883335   \n",
      "0                                K Nearest Neighbour  0.882229   \n",
      "0                                K Nearest Neighbour  0.884883   \n",
      "0                       Gradient Boosting Classifier  0.885657   \n",
      "0                       Gradient Boosting Classifier  0.885879   \n",
      "0  Gradient Boost Classifier with HyperParamters ...  0.885657   \n",
      "0  Gradient Boost Classifier with HyperParamters ...  0.884883   \n",
      "0                       Adaptive Boosting Classifier  0.884773   \n",
      "0                       Adaptive Boosting Classifier  0.883003   \n",
      "0     Adaptive Boost Classifier with Hyperparameters  0.883888   \n",
      "0     Adaptive Boost Classifier with Hyperparameters  0.884330   \n",
      "0                           Random Forest Classifier  0.868517   \n",
      "0                           Random Forest Classifier  0.868738   \n",
      "0  Random Forest Classifier With HyperParameters ...  0.884773   \n",
      "0  Random Forest Classifier With HyperParameters ...  0.885105   \n",
      "0                           Decision Tree Classifier  0.846622   \n",
      "0                           Decision Tree Classifier  0.846622   \n",
      "0  Decision Tree Classifier with Hyperparameters ...  0.885105   \n",
      "0  Decision Tree Classifier with Hyperparameters ...  0.883003   \n",
      "\n",
      "   Precision Score  Recall Score  F1-Score  roc-auc_Score  \n",
      "0         0.709532      0.529609  0.528488       0.709532  \n",
      "0         0.700574      0.524376  0.519109       0.700574  \n",
      "0         0.689285      0.547528  0.558348       0.689285  \n",
      "0         0.714863      0.553951  0.568301       0.714863  \n",
      "0         0.717965      0.572018  0.593875       0.717965  \n",
      "0         0.723524      0.558614  0.575349       0.723524  \n",
      "0         0.719031      0.566688  0.586708       0.719031  \n",
      "0         0.714665      0.554771  0.569524       0.714665  \n",
      "0         0.719151      0.539129  0.544828       0.719151  \n",
      "0         0.695259      0.535668  0.539230       0.695259  \n",
      "0         0.705077      0.555847  0.570959       0.705077  \n",
      "0         0.710680      0.546258  0.556442       0.710680  \n",
      "0         0.648116      0.590600  0.608008       0.648116  \n",
      "0         0.636080      0.570227  0.585801       0.636080  \n",
      "0         0.713085      0.557168  0.573036       0.713085  \n",
      "0         0.715749      0.559406  0.576341       0.715749  \n",
      "0         0.609256      0.593371  0.600118       0.609256  \n",
      "0         0.608473      0.592141  0.599028       0.608473  \n",
      "0         0.713001      0.581954  0.606278       0.713001  \n",
      "0         0.694295      0.526648  0.523408       0.694295  \n"
     ]
    },
    {
     "data": {
      "image/png": "[encoded data removed]",
      "text/plain": [
       "<Figure size 432x288 with 1 Axes>"
      ]
     },
     "metadata": {
      "needs_background": "light"
     },
     "output_type": "display_data"
    }
   ],
   "source": [
    "import warnings\n",
    "warnings.filterwarnings('ignore')\n",
    "rs = StratifiedShuffleSplit(n_splits=2, test_size=0.2,random_state=0)\n",
    "rs.get_n_splits(data_X,data_y)\n",
    "for Name,classify in classifiers.items():\n",
    "    for train_index, test_index in rs.split(data_X,data_y):\n",
    "        \n",
    "        X,X_test = data_X.iloc[train_index], data_X.iloc[test_index]\n",
    "        y,y_test = data_y.iloc[train_index], data_y.iloc[test_index]\n",
    "   \n",
    "        cls = classify\n",
    "        cls =cls.fit(X,y)\n",
    "        y_out = cls.predict(X_test)\n",
    "        accuracy = m.accuracy_score(y_test,y_out)\n",
    "        precision = m.precision_score(y_test,y_out,average='macro')\n",
    "        recall = m.recall_score(y_test,y_out,average='macro')\n",
    "        roc_auc = roc_auc_score(y_out,y_test)\n",
    "        f1_score = m.f1_score(y_test,y_out,average='macro')\n",
    "        log_entry = pd.DataFrame([[Name,accuracy,precision,recall,f1_score,roc_auc]], columns=log_cols)        \n",
    "        log = log.append(log_entry)\n",
    "        \n",
    "        \n",
    "print(log)\n",
    "plt.xlabel('Accuracy')\n",
    "plt.title('Classifier Accuracy')\n",
    "sns.set_color_codes(\"muted\")\n",
    "sns.barplot(x='Accuracy', y='Classifier', data=log, color=\"g\")  \n",
    "plt.show()"
   ]
  },
  {
   "cell_type": "code",
   "execution_count": 32,
   "metadata": {},
   "outputs": [
    {
     "data": {
      "image/png": "[encoded data removed]",
      "text/plain": [
       "<Figure size 432x288 with 1 Axes>"
      ]
     },
     "metadata": {
      "needs_background": "light"
     },
     "output_type": "display_data"
    }
   ],
   "source": [
    "plt.scatter(log['Recall Score'], log['Precision Score'], color='navy',\n",
    "         label='Precision-Recall')\n",
    "plt.xlabel('Recall')\n",
    "plt.ylabel('Precision')\n",
    "plt.ylim([0.0, 1.0])\n",
    "plt.xlim([0.0, 1.0])\n",
    "plt.title('Precision-Recall')\n",
    "plt.legend(loc=\"lower left\")\n",
    "plt.show()"
   ]
  },
  {
   "cell_type": "code",
   "execution_count": 33,
   "metadata": {},
   "outputs": [
    {
     "name": "stdout",
     "output_type": "stream",
     "text": [
      "                                          Classifier  Accuracy  \\\n",
      "0                                Logistic Regression  0.883888   \n",
      "0                                Logistic Regression  0.883335   \n",
      "0                                K Nearest Neighbour  0.882229   \n",
      "0                                K Nearest Neighbour  0.884883   \n",
      "0                       Gradient Boosting Classifier  0.885657   \n",
      "0                       Gradient Boosting Classifier  0.885879   \n",
      "0  Gradient Boost Classifier with HyperParamters ...  0.885657   \n",
      "0  Gradient Boost Classifier with HyperParamters ...  0.884883   \n",
      "0                       Adaptive Boosting Classifier  0.884773   \n",
      "0                       Adaptive Boosting Classifier  0.883003   \n",
      "0     Adaptive Boost Classifier with Hyperparameters  0.883888   \n",
      "0     Adaptive Boost Classifier with Hyperparameters  0.884330   \n",
      "0                           Random Forest Classifier  0.868517   \n",
      "0                           Random Forest Classifier  0.868738   \n",
      "0  Random Forest Classifier With HyperParameters ...  0.884773   \n",
      "0  Random Forest Classifier With HyperParameters ...  0.885105   \n",
      "0                           Decision Tree Classifier  0.846622   \n",
      "0                           Decision Tree Classifier  0.846622   \n",
      "0  Decision Tree Classifier with Hyperparameters ...  0.885105   \n",
      "0  Decision Tree Classifier with Hyperparameters ...  0.883003   \n",
      "0                                Logistic Regression  0.883003   \n",
      "0                                K Nearest Neighbour  0.882229   \n",
      "0                       Gradient Boosting Classifier  0.885215   \n",
      "0  Gradient Boost Classifier with HyperParamters ...  0.886874   \n",
      "0                       Adaptive Boosting Classifier  0.883667   \n",
      "0     Adaptive Boost Classifier with Hyperparameters  0.884662   \n",
      "0                           Random Forest Classifier  0.867522   \n",
      "0  Random Forest Classifier With HyperParameters ...  0.887095   \n",
      "0                           Decision Tree Classifier  0.850382   \n",
      "0  Decision Tree Classifier with Hyperparameters ...  0.881345   \n",
      "\n",
      "   Precision Score  Recall Score  F1-Score  roc-auc_Score  \n",
      "0         0.709532      0.529609  0.528488       0.709532  \n",
      "0         0.700574      0.524376  0.519109       0.700574  \n",
      "0         0.689285      0.547528  0.558348       0.689285  \n",
      "0         0.714863      0.553951  0.568301       0.714863  \n",
      "0         0.717965      0.572018  0.593875       0.717965  \n",
      "0         0.723524      0.558614  0.575349       0.723524  \n",
      "0         0.719031      0.566688  0.586708       0.719031  \n",
      "0         0.714665      0.554771  0.569524       0.714665  \n",
      "0         0.719151      0.539129  0.544828       0.719151  \n",
      "0         0.695259      0.535668  0.539230       0.695259  \n",
      "0         0.705077      0.555847  0.570959       0.705077  \n",
      "0         0.710680      0.546258  0.556442       0.710680  \n",
      "0         0.648116      0.590600  0.608008       0.648116  \n",
      "0         0.636080      0.570227  0.585801       0.636080  \n",
      "0         0.713085      0.557168  0.573036       0.713085  \n",
      "0         0.715749      0.559406  0.576341       0.715749  \n",
      "0         0.609256      0.593371  0.600118       0.609256  \n",
      "0         0.608473      0.592141  0.599028       0.608473  \n",
      "0         0.713001      0.581954  0.606278       0.713001  \n",
      "0         0.694295      0.526648  0.523408       0.694295  \n",
      "0         0.703179      0.530484  0.530021       0.703179  \n",
      "0         0.693985      0.546354  0.556457       0.693985  \n",
      "0         0.720784      0.562315  0.580542       0.720784  \n",
      "0         0.735754      0.564886  0.584600       0.735754  \n",
      "0         0.711303      0.537791  0.542531       0.711303  \n",
      "0         0.718971      0.550994  0.563751       0.718971  \n",
      "0         0.636199      0.573083  0.588827       0.636199  \n",
      "0         0.741704      0.559711  0.577195       0.741704  \n",
      "0         0.618160      0.598027  0.606351       0.618160  \n",
      "0         0.679682      0.531583  0.532345       0.679682  \n"
     ]
    },
    {
     "data": {
      "image/png": "[encoded data removed]",
      "text/plain": [
       "<Figure size 432x288 with 1 Axes>"
      ]
     },
     "metadata": {
      "needs_background": "light"
     },
     "output_type": "display_data"
    }
   ],
   "source": [
    "import warnings\n",
    "warnings.filterwarnings('ignore')\n",
    "rs = ShuffleSplit(n_splits=1, test_size=0.2,random_state=0)\n",
    "rs.get_n_splits(data_X,data_y)\n",
    "for Name,classify in classifiers.items():\n",
    "    for train_index, test_index in rs.split(data_X,data_y):\n",
    "        #print(\"TRAIN:\", train_index, \"TEST:\", test_index)\n",
    "        X,X_test = data_X.iloc[train_index], data_X.iloc[test_index]\n",
    "        y,y_test = data_y.iloc[train_index], data_y.iloc[test_index]\n",
    "        cls = classify\n",
    "        cls =cls.fit(X,y)\n",
    "        y_out = cls.predict(X_test)\n",
    "        accuracy = accuracy_score(y_test,y_out)\n",
    "        precision = m.precision_score(y_test,y_out,average='macro')\n",
    "        recall = m.recall_score(y_test,y_out,average='macro')\n",
    "        f1_score = m.f1_score(y_test,y_out,average='macro')\n",
    "        roc_auc = roc_auc_score(y_out,y_test)\n",
    "        log_entry = pd.DataFrame([[Name,accuracy,precision,recall,f1_score,roc_auc]], columns=log_cols)\n",
    "        \n",
    "        log = log.append(log_entry)\n",
    "        \n",
    "    \n",
    "print(log)\n",
    "plt.xlabel('Accuracy')\n",
    "plt.title('Classifier Accuracy')\n",
    "sns.set_color_codes(\"muted\")\n",
    "sns.barplot(x='Accuracy', y='Classifier', data=log, color=\"g\")  \n",
    "plt.show()"
   ]
  },
  {
   "cell_type": "markdown",
   "metadata": {},
   "source": [
    "<b>Inference:</b>\n",
    "    \n",
    "    Gradient Boosting Classifier seems to be a better fit when comparing the  models without hyperparameters tuning.\n",
    "    When hyperparameters tuning is done, RandomForest and DecsionTree Classifiers seem to have improved in results by 0.02 and 0.03 respectively and RandomForest Classifier seems to have bettered the Gradient Boost Classifier as well.\n",
    "    "
   ]
  },
  {
   "cell_type": "code",
   "execution_count": null,
   "metadata": {},
   "outputs": [],
   "source": []
  }
 ],
 "metadata": {
  "kernelspec": {
   "display_name": "Python 3",
   "language": "python",
   "name": "python3"
  },
  "language_info": {
   "codemirror_mode": {
    "name": "ipython",
    "version": 3
   },
   "file_extension": ".py",
   "mimetype": "text/x-python",
   "name": "python",
   "nbconvert_exporter": "python",
   "pygments_lexer": "ipython3",
   "version": "3.7.3"
  }
 },
 "nbformat": 4,
 "nbformat_minor": 2
}
